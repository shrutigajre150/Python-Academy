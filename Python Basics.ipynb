{
 "cells": [
  {
   "cell_type": "code",
   "execution_count": 1,
   "id": "b4d4fd33-6d32-496f-b4b3-e38f1e396fa6",
   "metadata": {},
   "outputs": [
    {
     "name": "stdout",
     "output_type": "stream",
     "text": [
      "Python\n"
     ]
    }
   ],
   "source": [
    "print(\"Python\") # To print"
   ]
  },
  {
   "cell_type": "code",
   "execution_count": 2,
   "id": "d6387ccd-e0ff-4e48-ad12-5062ac84c62d",
   "metadata": {},
   "outputs": [
    {
     "name": "stdout",
     "output_type": "stream",
     "text": [
      "python version: 3.11.7 (main, Dec 15 2023, 12:09:04) [Clang 14.0.6 ]\n"
     ]
    }
   ],
   "source": [
    "import sys\n",
    "\n",
    "print(\"python version:\", sys.version)   # To know the version"
   ]
  },
  {
   "cell_type": "code",
   "execution_count": 6,
   "id": "c3d32b48-159c-4fc3-ad11-da90e1f83a47",
   "metadata": {},
   "outputs": [
    {
     "name": "stdout",
     "output_type": "stream",
     "text": [
      "1000 is greater\n"
     ]
    }
   ],
   "source": [
    "if 1000 > 999:\n",
    "    print(\"1000 is greater\")    # Python uses indentation to indicate block of code, else it throws an error (IndentationError)"
   ]
  },
  {
   "cell_type": "code",
   "execution_count": 7,
   "id": "72dfe1dd-01be-48fc-920e-8792553559f8",
   "metadata": {},
   "outputs": [
    {
     "name": "stdout",
     "output_type": "stream",
     "text": [
      "Python\n"
     ]
    }
   ],
   "source": [
    "print(\"Python\")   # Hash is used to add a comment so that it increases readability\n",
    "                  # Two types: Single line comment and multi-line comment"
   ]
  },
  {
   "cell_type": "code",
   "execution_count": 8,
   "id": "793d2c85-87a1-4ea9-8861-c863734bde18",
   "metadata": {},
   "outputs": [],
   "source": [
    "# Python Identifiers: To identify a variable, function, class, module or an object."
   ]
  },
  {
   "cell_type": "code",
   "execution_count": 1,
   "id": "80fb940d-fc2e-4cf9-ba51-3638ee867f99",
   "metadata": {},
   "outputs": [
    {
     "name": "stdout",
     "output_type": "stream",
     "text": [
      "['False', 'None', 'True', 'and', 'as', 'assert', 'async', 'await', 'break', 'class', 'continue', 'def', 'del', 'elif', 'else', 'except', 'finally', 'for', 'from', 'global', 'if', 'import', 'in', 'is', 'lambda', 'nonlocal', 'not', 'or', 'pass', 'raise', 'return', 'try', 'while', 'with', 'yield']\n"
     ]
    },
    {
     "data": {
      "text/plain": [
       "35"
      ]
     },
     "execution_count": 1,
     "metadata": {},
     "output_type": "execute_result"
    }
   ],
   "source": [
    "import keyword\n",
    "\n",
    "python_keywords = keyword.kwlist\n",
    "print(python_keywords)   # Display the list of keywords\n",
    "len(python_keywords)     # Total number of keywords or reserved words#"
   ]
  },
  {
   "cell_type": "code",
   "execution_count": 19,
   "id": "26c880bb-8420-4c9d-aac5-9665604872ca",
   "metadata": {},
   "outputs": [
    {
     "name": "stdout",
     "output_type": "stream",
     "text": [
      "1000\n"
     ]
    }
   ],
   "source": [
    "# Python Variables: memory locations to store values with in a python program\n",
    "\n",
    "a = 1000   # 'a' is a variable\n",
    "print(a)"
   ]
  },
  {
   "cell_type": "code",
   "execution_count": 31,
   "id": "37f481fb-bcaa-4cc7-a267-4ba92a364ac7",
   "metadata": {},
   "outputs": [],
   "source": [
    "# Rules to create a variable:"
   ]
  },
  {
   "cell_type": "code",
   "execution_count": null,
   "id": "b2d296b8-91f7-41a3-8702-14ce1708c94e",
   "metadata": {},
   "outputs": [],
   "source": [
    "#valid\n",
    "var = 5          # can alpha\n",
    "var_2 = 'Python' # variable name can be alpha-numeric \n",
    "_var = 'Python'  # can start with _"
   ]
  },
  {
   "cell_type": "code",
   "execution_count": 30,
   "id": "1fe5f8a0-3bad-41e1-94fc-fd183014d5a3",
   "metadata": {},
   "outputs": [
    {
     "ename": "SyntaxError",
     "evalue": "invalid decimal literal (3423532801.py, line 3)",
     "output_type": "error",
     "traceback": [
      "\u001b[0;36m  Cell \u001b[0;32mIn[30], line 3\u001b[0;36m\u001b[0m\n\u001b[0;31m    1_var = 5  #cannot start with number\u001b[0m\n\u001b[0m     ^\u001b[0m\n\u001b[0;31mSyntaxError\u001b[0m\u001b[0;31m:\u001b[0m invalid decimal literal\n"
     ]
    }
   ],
   "source": [
    "#invalid\n",
    "\n",
    "1_var = 5  #cannot start with number\n",
    "@var = 5   #cannot start with special characters like @,$,(,*,etc\n",
    "for = 'python' # cannot use keywords as variables"
   ]
  },
  {
   "cell_type": "code",
   "execution_count": 39,
   "id": "1a236d06-6b44-48a5-9c65-3bc09e029de6",
   "metadata": {},
   "outputs": [
    {
     "name": "stdout",
     "output_type": "stream",
     "text": [
      "<class 'int'>\n",
      "<class 'str'>\n",
      "<class 'float'>\n"
     ]
    }
   ],
   "source": [
    "a = 10\n",
    "b = 'python'\n",
    "c = 4.55\n",
    "\n",
    "print(type(a))   # use 'type' to know the data type of a variable\n",
    "print(type(b))\n",
    "print(type(c))"
   ]
  },
  {
   "cell_type": "code",
   "execution_count": 45,
   "id": "cca56350-09c7-4684-bf8e-78bf87133868",
   "metadata": {},
   "outputs": [
    {
     "name": "stdout",
     "output_type": "stream",
     "text": [
      "How\n",
      "are\n",
      "you?\n"
     ]
    }
   ],
   "source": [
    "# Multiple variables\n",
    "\n",
    "a,b,c = \"How\", \"are\", \"you?\"\n",
    "\n",
    "print(a)\n",
    "print(b)\n",
    "print(c)"
   ]
  },
  {
   "cell_type": "code",
   "execution_count": 49,
   "id": "99c53771-4413-4bbe-bddc-8897d2d72f39",
   "metadata": {},
   "outputs": [
    {
     "name": "stdout",
     "output_type": "stream",
     "text": [
      "15\n",
      "15\n",
      "15\n"
     ]
    }
   ],
   "source": [
    "a=b=c = 15    # assigning one variable to multible variables\n",
    "\n",
    "print(a)\n",
    "print(b)\n",
    "print(c)"
   ]
  },
  {
   "cell_type": "code",
   "execution_count": 52,
   "id": "3057df10-5378-4014-b3fb-2f33dbf2d01b",
   "metadata": {},
   "outputs": [
    {
     "name": "stdout",
     "output_type": "stream",
     "text": [
      "apple\n",
      "cherry\n",
      "blueberry\n"
     ]
    }
   ],
   "source": [
    "# Unpacking: extract the values into variables\n",
    "\n",
    "fruits = [\"apple\", \"cherry\", \"blueberry\"]\n",
    "a,b,c = fruits\n",
    "print(a)\n",
    "print(b)\n",
    "print(c)"
   ]
  },
  {
   "cell_type": "code",
   "execution_count": 53,
   "id": "fee0c32b-380b-4ae0-8e84-99f1fc92c611",
   "metadata": {},
   "outputs": [],
   "source": [
    "# Python Data Types"
   ]
  },
  {
   "cell_type": "code",
   "execution_count": 5,
   "id": "34d81494-7ff3-49cd-bc6a-33956d3dfe9d",
   "metadata": {},
   "outputs": [
    {
     "name": "stdout",
     "output_type": "stream",
     "text": [
      "<class 'int'>\n",
      "<class 'str'>\n",
      "<class 'complex'>\n",
      "<class 'float'>\n"
     ]
    }
   ],
   "source": [
    "\n",
    "a=455\n",
    "b='shruti'\n",
    "c=15j+10\n",
    "d=10.5\n",
    "\n",
    "print(type(a))\n",
    "print(type(b))\n",
    "print(type(c))\n",
    "print(type(d))"
   ]
  },
  {
   "cell_type": "code",
   "execution_count": 9,
   "id": "30c4b823-8012-4fd3-87d1-1dbabab15723",
   "metadata": {},
   "outputs": [
    {
     "name": "stdout",
     "output_type": "stream",
     "text": [
      "455.0\n",
      "<class 'float'>\n",
      "10\n",
      "<class 'int'>\n"
     ]
    }
   ],
   "source": [
    "# Type conversion\n",
    "\n",
    "x=float(a)\n",
    "print(x)\n",
    "print(type(x))\n",
    "\n",
    "y=int(d)\n",
    "print(y)\n",
    "print(type(y))"
   ]
  },
  {
   "cell_type": "code",
   "execution_count": 13,
   "id": "a62a8be5-ebb2-4333-bc94-c7233a3b0709",
   "metadata": {},
   "outputs": [
    {
     "name": "stdout",
     "output_type": "stream",
     "text": [
      "True\n",
      "True\n",
      "False\n"
     ]
    }
   ],
   "source": [
    "# Python booleans-true or flase\n",
    "\n",
    "print(40<50)\n",
    "print(0==0)\n",
    "print(5<1)\n"
   ]
  },
  {
   "cell_type": "code",
   "execution_count": 14,
   "id": "5ea5042c-870a-4798-8308-85a87f61d757",
   "metadata": {},
   "outputs": [
    {
     "name": "stdout",
     "output_type": "stream",
     "text": [
      "True\n",
      "False\n"
     ]
    }
   ],
   "source": [
    "# bool function\n",
    "\n",
    "print(bool(\"shruti\"))\n",
    "print(bool(5>10))"
   ]
  },
  {
   "cell_type": "markdown",
   "id": "ee98f36e-9b0b-4c1c-af4c-a2ccff5ef44c",
   "metadata": {},
   "source": [
    "# Python Operators"
   ]
  },
  {
   "cell_type": "code",
   "execution_count": null,
   "id": "aa30cd70-c1d6-431e-a3ee-7a89f7b5bc1e",
   "metadata": {},
   "outputs": [],
   "source": [
    "# Arithmetic Operators"
   ]
  },
  {
   "cell_type": "code",
   "execution_count": 20,
   "id": "3f8ca8e4-4b6f-461e-bbce-4af94d8eb8f1",
   "metadata": {},
   "outputs": [
    {
     "name": "stdout",
     "output_type": "stream",
     "text": [
      "700\n",
      "300\n",
      "2.5\n",
      "100\n",
      "2\n",
      "100000\n",
      "16\n"
     ]
    }
   ],
   "source": [
    "a=500\n",
    "b=200\n",
    "\n",
    "c=a+b\n",
    "d=a-b\n",
    "e=a/b\n",
    "f=a%b\n",
    "g=a//b\n",
    "h=a*b\n",
    "\n",
    "x=2\n",
    "y=4\n",
    "i=x**y\n",
    "\n",
    "print(c)\n",
    "print(d)\n",
    "print(e)\n",
    "print(f)\n",
    "print(g)\n",
    "print(h)\n",
    "print(i)"
   ]
  },
  {
   "cell_type": "code",
   "execution_count": 21,
   "id": "9cd3d092-85f6-4f70-a516-5b98ef1e4ca4",
   "metadata": {},
   "outputs": [],
   "source": [
    "# Assignment Operator"
   ]
  },
  {
   "cell_type": "code",
   "execution_count": 27,
   "id": "4b432070-8980-4432-aa0b-7c3add929f2d",
   "metadata": {},
   "outputs": [
    {
     "name": "stdout",
     "output_type": "stream",
     "text": [
      "30\n"
     ]
    }
   ],
   "source": [
    "a=10\n",
    "b=20\n",
    "\n",
    "a+=b\n",
    "\n",
    "\n",
    "print(a)\n"
   ]
  },
  {
   "cell_type": "code",
   "execution_count": 34,
   "id": "79dda901-1aba-442e-9622-951cecbba7f4",
   "metadata": {},
   "outputs": [
    {
     "name": "stdout",
     "output_type": "stream",
     "text": [
      "20\n"
     ]
    }
   ],
   "source": [
    "a-=b\n",
    "print(b)"
   ]
  },
  {
   "cell_type": "code",
   "execution_count": 30,
   "id": "7471e150-a8f0-41cd-ae72-b1df51b8860a",
   "metadata": {},
   "outputs": [
    {
     "name": "stdout",
     "output_type": "stream",
     "text": [
      "-200\n"
     ]
    }
   ],
   "source": [
    "a*=b\n",
    "print(a)"
   ]
  },
  {
   "cell_type": "code",
   "execution_count": 31,
   "id": "cad7cdbb-931e-47a4-a172-0ef885f65629",
   "metadata": {},
   "outputs": [
    {
     "name": "stdout",
     "output_type": "stream",
     "text": [
      "-10.0\n"
     ]
    }
   ],
   "source": [
    "a/=b\n",
    "print(a)"
   ]
  },
  {
   "cell_type": "code",
   "execution_count": 32,
   "id": "83fa3997-b2cd-4f87-bd5b-faafa5d85a53",
   "metadata": {},
   "outputs": [
    {
     "name": "stdout",
     "output_type": "stream",
     "text": [
      "10.0\n"
     ]
    }
   ],
   "source": [
    "a%=b\n",
    "print(a)"
   ]
  },
  {
   "cell_type": "code",
   "execution_count": 33,
   "id": "3455f32e-6dff-45b7-bf6d-eba4dba74956",
   "metadata": {},
   "outputs": [
    {
     "name": "stdout",
     "output_type": "stream",
     "text": [
      "1e+20\n"
     ]
    }
   ],
   "source": [
    "a**=b\n",
    "print(a)"
   ]
  },
  {
   "cell_type": "code",
   "execution_count": 35,
   "id": "80d45f9d-6d44-4caf-bafe-7e0c72795f7f",
   "metadata": {},
   "outputs": [],
   "source": [
    "# Comparison Operator"
   ]
  },
  {
   "cell_type": "code",
   "execution_count": 36,
   "id": "cb38fe9d-d387-4dc1-bba5-7cde971be2b3",
   "metadata": {},
   "outputs": [],
   "source": [
    "a=10\n",
    "b=20"
   ]
  },
  {
   "cell_type": "code",
   "execution_count": 37,
   "id": "15410629-75ea-44dd-b109-df8d218f974b",
   "metadata": {},
   "outputs": [
    {
     "data": {
      "text/plain": [
       "False"
      ]
     },
     "execution_count": 37,
     "metadata": {},
     "output_type": "execute_result"
    }
   ],
   "source": [
    "a==b"
   ]
  },
  {
   "cell_type": "code",
   "execution_count": 38,
   "id": "73f2b450-3637-4284-b661-9c7f1412a6d7",
   "metadata": {},
   "outputs": [
    {
     "data": {
      "text/plain": [
       "True"
      ]
     },
     "execution_count": 38,
     "metadata": {},
     "output_type": "execute_result"
    }
   ],
   "source": [
    "a!=b"
   ]
  },
  {
   "cell_type": "code",
   "execution_count": 39,
   "id": "d6de255d-82b3-472b-828f-23813febed58",
   "metadata": {},
   "outputs": [
    {
     "data": {
      "text/plain": [
       "False"
      ]
     },
     "execution_count": 39,
     "metadata": {},
     "output_type": "execute_result"
    }
   ],
   "source": [
    "a>b"
   ]
  },
  {
   "cell_type": "code",
   "execution_count": 40,
   "id": "0eb492cc-96c1-49cf-a641-4e8c47b073c4",
   "metadata": {},
   "outputs": [
    {
     "data": {
      "text/plain": [
       "True"
      ]
     },
     "execution_count": 40,
     "metadata": {},
     "output_type": "execute_result"
    }
   ],
   "source": [
    "a<b"
   ]
  },
  {
   "cell_type": "code",
   "execution_count": 41,
   "id": "ad836bee-3bbb-4ba5-b264-77b479efe4b6",
   "metadata": {},
   "outputs": [
    {
     "data": {
      "text/plain": [
       "True"
      ]
     },
     "execution_count": 41,
     "metadata": {},
     "output_type": "execute_result"
    }
   ],
   "source": [
    "a<=b"
   ]
  },
  {
   "cell_type": "code",
   "execution_count": 42,
   "id": "f118a8e0-c19d-4114-8747-4fd775cca5dc",
   "metadata": {},
   "outputs": [
    {
     "data": {
      "text/plain": [
       "False"
      ]
     },
     "execution_count": 42,
     "metadata": {},
     "output_type": "execute_result"
    }
   ],
   "source": [
    "a>=b"
   ]
  },
  {
   "cell_type": "code",
   "execution_count": 43,
   "id": "9d0771ec-734e-42cc-8744-bb7b0ef8216d",
   "metadata": {},
   "outputs": [],
   "source": [
    "# Logical Operator"
   ]
  },
  {
   "cell_type": "code",
   "execution_count": 51,
   "id": "bc56af53-68d8-41b5-8e58-7112192566c7",
   "metadata": {},
   "outputs": [
    {
     "name": "stdout",
     "output_type": "stream",
     "text": [
      "True\n",
      "True\n",
      "False\n"
     ]
    }
   ],
   "source": [
    "print(5>3 and 4>2)\n",
    "print(5>3 or 4<2)\n",
    "print(not(5>3 or 4<2))"
   ]
  },
  {
   "cell_type": "code",
   "execution_count": 52,
   "id": "a7741d8a-4753-4e3f-8a5c-b95de2376e98",
   "metadata": {},
   "outputs": [],
   "source": [
    "# Identity Operator"
   ]
  },
  {
   "cell_type": "code",
   "execution_count": 56,
   "id": "91baed17-9538-40f3-900f-e38b20eae0a5",
   "metadata": {},
   "outputs": [
    {
     "name": "stdout",
     "output_type": "stream",
     "text": [
      "True\n",
      "False\n",
      "True\n",
      "False\n"
     ]
    }
   ],
   "source": [
    "a=10\n",
    "b=10\n",
    "c='Python'\n",
    "d='Python'\n",
    "\n",
    "print(a is b)\n",
    "print(a is d)\n",
    "print(c is d)\n",
    "print(a is not b)"
   ]
  },
  {
   "cell_type": "code",
   "execution_count": 57,
   "id": "8c8c9e0d-698e-4aee-b79c-0561acf78456",
   "metadata": {},
   "outputs": [],
   "source": [
    "# Membership Operator"
   ]
  },
  {
   "cell_type": "code",
   "execution_count": 63,
   "id": "80bb6069-a388-4a00-8bd9-f6bd5173065c",
   "metadata": {},
   "outputs": [
    {
     "name": "stdout",
     "output_type": "stream",
     "text": [
      "True\n",
      "False\n",
      "True\n",
      "True\n"
     ]
    }
   ],
   "source": [
    "a=[1,4,7,2,9,4]\n",
    "c='Python'\n",
    "\n",
    "print('P' in c)\n",
    "print('s' in c)\n",
    "print(4 in a)\n",
    "print(10 not in a)"
   ]
  },
  {
   "cell_type": "code",
   "execution_count": 64,
   "id": "5ea52e4a-f645-4d80-a912-4cb45fa8af41",
   "metadata": {},
   "outputs": [],
   "source": [
    "# Bitwise Operator"
   ]
  },
  {
   "cell_type": "code",
   "execution_count": 65,
   "id": "c3f49826-4e60-416f-93d1-ba87bf04343f",
   "metadata": {},
   "outputs": [],
   "source": [
    "# List"
   ]
  },
  {
   "cell_type": "code",
   "execution_count": 69,
   "id": "cb56776d-a5e3-463d-92df-ac554ff3b9c9",
   "metadata": {},
   "outputs": [
    {
     "name": "stdout",
     "output_type": "stream",
     "text": [
      "shruti\n",
      "15.2\n"
     ]
    }
   ],
   "source": [
    "list = [15,'shruti', 15.2] \n",
    "print(list[1])  #access list\n",
    "print(list[-1])"
   ]
  },
  {
   "cell_type": "code",
   "execution_count": 73,
   "id": "b6eafbef-40d3-4a72-b7a9-caada03a7d3a",
   "metadata": {},
   "outputs": [
    {
     "name": "stdout",
     "output_type": "stream",
     "text": [
      "['h', 'r', 'u', 't']\n",
      "['t', 'i']\n"
     ]
    }
   ],
   "source": [
    "my_list = ['s','h','r','u','t','i']\n",
    "print(my_list[1:5])  #slicing\n",
    "print(my_list[-2:])"
   ]
  },
  {
   "cell_type": "code",
   "execution_count": 74,
   "id": "8b5cbdcb-a687-4351-8d15-556b5e8b0f47",
   "metadata": {},
   "outputs": [],
   "source": [
    "# List Methods"
   ]
  },
  {
   "cell_type": "code",
   "execution_count": 76,
   "id": "8b80d7f6-d39b-4431-ad48-e4e001932b85",
   "metadata": {},
   "outputs": [
    {
     "name": "stdout",
     "output_type": "stream",
     "text": [
      "['Shruti', 'Krish', 'Ayesha', 'Shri']\n"
     ]
    }
   ],
   "source": [
    "names=['Shruti', 'Krish', 'Ayesha']\n",
    "names.append('Shri')\n",
    "print(names)"
   ]
  },
  {
   "cell_type": "code",
   "execution_count": 81,
   "id": "4f2c2ebd-a661-4b50-a690-1a5f219e2246",
   "metadata": {},
   "outputs": [
    {
     "name": "stdout",
     "output_type": "stream",
     "text": [
      "['Shruti', 'Krish', 5, 'Ayesha']\n"
     ]
    }
   ],
   "source": [
    "names=['Shruti', 'Krish', 'Ayesha']\n",
    "names.insert(2,5)\n",
    "print(names)"
   ]
  },
  {
   "cell_type": "code",
   "execution_count": 82,
   "id": "cd02c41c-69a8-403e-9e2d-587a31534681",
   "metadata": {},
   "outputs": [
    {
     "name": "stdout",
     "output_type": "stream",
     "text": [
      "['Shruti', 'Krish', 'Ayesha', 'S', 'h', 'r', 'i']\n"
     ]
    }
   ],
   "source": [
    "names=['Shruti', 'Krish', 'Ayesha']\n",
    "names.extend('Shri')\n",
    "print(names)"
   ]
  },
  {
   "cell_type": "code",
   "execution_count": 83,
   "id": "afa298c4-f651-4050-9151-1d32736a609b",
   "metadata": {},
   "outputs": [
    {
     "name": "stdout",
     "output_type": "stream",
     "text": [
      "['Shruti', 'Krish', 'Ayesha']\n"
     ]
    }
   ],
   "source": [
    "names=['Shruti', 'Krish', 'Ayesha','Shri']\n",
    "names.remove('Shri')\n",
    "print(names)"
   ]
  },
  {
   "cell_type": "code",
   "execution_count": 96,
   "id": "39bb2267-f85c-4932-a951-1e00b89c94c5",
   "metadata": {},
   "outputs": [
    {
     "name": "stdout",
     "output_type": "stream",
     "text": [
      "Shruti\n"
     ]
    }
   ],
   "source": [
    "names=['Shruti', 'Krish', 'Ayesha']\n",
    "c=names.pop(0)\n",
    "print(c)"
   ]
  },
  {
   "cell_type": "code",
   "execution_count": 94,
   "id": "f1ef49b2-5538-4e62-90a6-2bec78f5a1c6",
   "metadata": {},
   "outputs": [
    {
     "name": "stdout",
     "output_type": "stream",
     "text": [
      "3\n"
     ]
    }
   ],
   "source": [
    "names=['Shruti', 'Krish', 'Ayesha','Shri']\n",
    "c=names.index('Shri')\n",
    "print(c)"
   ]
  },
  {
   "cell_type": "code",
   "execution_count": 99,
   "id": "fdf56e89-70a3-4bea-b366-a66e0a5d81a7",
   "metadata": {},
   "outputs": [
    {
     "name": "stdout",
     "output_type": "stream",
     "text": [
      "2\n"
     ]
    }
   ],
   "source": [
    "a=[1,3,6,8,3]\n",
    "c=a.count(3)\n",
    "print(c)"
   ]
  },
  {
   "cell_type": "code",
   "execution_count": 102,
   "id": "993b1b52-d584-4cc9-89da-b39fd7ebdb8f",
   "metadata": {},
   "outputs": [
    {
     "name": "stdout",
     "output_type": "stream",
     "text": [
      "[3, 8, 6, 3, 1]\n"
     ]
    }
   ],
   "source": [
    "a=[1,3,6,8,3]\n",
    "a.reverse()\n",
    "print(a)"
   ]
  },
  {
   "cell_type": "code",
   "execution_count": 103,
   "id": "bd2e261d-331a-4264-a822-b217357d774a",
   "metadata": {},
   "outputs": [],
   "source": [
    "# strings"
   ]
  },
  {
   "cell_type": "code",
   "execution_count": 104,
   "id": "a1d1e55e-16b9-475b-af14-e6952460bd17",
   "metadata": {},
   "outputs": [
    {
     "name": "stdout",
     "output_type": "stream",
     "text": [
      "shruti shru\n"
     ]
    }
   ],
   "source": [
    "name1='shruti'\n",
    "name2='shru'\n",
    "res=name1+\" \"+name2\n",
    "print(res)\n"
   ]
  },
  {
   "cell_type": "code",
   "execution_count": 113,
   "id": "a791d772-686a-4850-8329-cd1195ae4fe9",
   "metadata": {},
   "outputs": [
    {
     "name": "stdout",
     "output_type": "stream",
     "text": [
      "shrutishruti\n"
     ]
    }
   ],
   "source": [
    "name1='shruti'\n",
    "res= name1 *   2\n",
    "print(res)"
   ]
  },
  {
   "cell_type": "code",
   "execution_count": 117,
   "id": "d6ba42c6-05b9-48f5-a595-56b6c80b42cd",
   "metadata": {},
   "outputs": [
    {
     "name": "stdout",
     "output_type": "stream",
     "text": [
      "h\n",
      "t\n"
     ]
    }
   ],
   "source": [
    "name1='shruti'\n",
    "print(name1[1])\n",
    "print(name1[-2])"
   ]
  },
  {
   "cell_type": "code",
   "execution_count": 118,
   "id": "c0e35f56-a4af-4a75-98a9-5c7a9675a2b7",
   "metadata": {},
   "outputs": [],
   "source": [
    "# Python Formats"
   ]
  },
  {
   "cell_type": "code",
   "execution_count": 122,
   "id": "3ab9165a-ca22-4f9f-bef9-5562d15b1a6a",
   "metadata": {},
   "outputs": [
    {
     "name": "stdout",
     "output_type": "stream",
     "text": [
      "My name is shruti and I am 21.\n"
     ]
    }
   ],
   "source": [
    "name='shruti'\n",
    "age=21\n",
    "formatt= \"My name is %s and I am %d.\" %(name,age)\n",
    "print(formatt)"
   ]
  },
  {
   "cell_type": "code",
   "execution_count": 125,
   "id": "03d4e9e1-fb16-4b32-a6b2-69a7d544f93e",
   "metadata": {},
   "outputs": [
    {
     "name": "stdout",
     "output_type": "stream",
     "text": [
      "My name is shruti and I am 21.\n"
     ]
    }
   ],
   "source": [
    "name='shruti'\n",
    "age=21\n",
    "res= \"My name is {} and I am {}.\".format(name,age)\n",
    "print(res)"
   ]
  },
  {
   "cell_type": "code",
   "execution_count": 127,
   "id": "a2e43663-8b0d-42b3-bc93-cc2eab18c528",
   "metadata": {},
   "outputs": [
    {
     "name": "stdout",
     "output_type": "stream",
     "text": [
      "My name is shruti and I am 21.\n"
     ]
    }
   ],
   "source": [
    "name='shruti'\n",
    "age=21\n",
    "res= f\"My name is {name} and I am {age}.\"\n",
    "print(res)"
   ]
  },
  {
   "cell_type": "code",
   "execution_count": 128,
   "id": "ab774a8e-7e98-436e-a7ba-29c3961b5729",
   "metadata": {},
   "outputs": [],
   "source": [
    "# String methods"
   ]
  },
  {
   "cell_type": "code",
   "execution_count": 129,
   "id": "293fdbb4-2f66-4062-8154-9ad9c67bbefe",
   "metadata": {},
   "outputs": [
    {
     "name": "stdout",
     "output_type": "stream",
     "text": [
      "19\n"
     ]
    }
   ],
   "source": [
    "str1=\"I live in Hyderabad\"\n",
    "length=len(str1)\n",
    "print(length)"
   ]
  },
  {
   "cell_type": "code",
   "execution_count": 131,
   "id": "e4121469-3c62-4d6e-98b4-6397aa5c453f",
   "metadata": {},
   "outputs": [
    {
     "name": "stdout",
     "output_type": "stream",
     "text": [
      "I LIVE IN HYDERABAD\n"
     ]
    }
   ],
   "source": [
    "str1=\"I live in Hyderabad\"\n",
    "l=str1.upper()\n",
    "print(l)"
   ]
  },
  {
   "cell_type": "code",
   "execution_count": 132,
   "id": "b0081be5-43b2-4f77-aa91-44f47129881f",
   "metadata": {},
   "outputs": [
    {
     "name": "stdout",
     "output_type": "stream",
     "text": [
      "i live in hyderabad\n"
     ]
    }
   ],
   "source": [
    "str1=\"I live in Hyderabad\"\n",
    "l=str1.lower()\n",
    "print(l)"
   ]
  },
  {
   "cell_type": "code",
   "execution_count": 135,
   "id": "1a60218f-61d6-492c-b897-81057289577c",
   "metadata": {},
   "outputs": [
    {
     "name": "stdout",
     "output_type": "stream",
     "text": [
      "I live in Hyderabad\n",
      "     I live in Hyderabad   \n"
     ]
    }
   ],
   "source": [
    "str1=\"     I live in Hyderabad   \"\n",
    "l=str1.strip()\n",
    "print(l)\n",
    "print(str1)"
   ]
  },
  {
   "cell_type": "code",
   "execution_count": 136,
   "id": "05ab1269-401d-45a1-82cc-58256f0d9fcb",
   "metadata": {},
   "outputs": [
    {
     "name": "stdout",
     "output_type": "stream",
     "text": [
      "I stay in Hyderabad\n"
     ]
    }
   ],
   "source": [
    "str1=\"I live in Hyderabad\"\n",
    "l=str1.replace('live','stay')\n",
    "print(l)"
   ]
  },
  {
   "cell_type": "code",
   "execution_count": 137,
   "id": "61b63ad6-9265-454a-8d83-026ef2162960",
   "metadata": {},
   "outputs": [
    {
     "name": "stdout",
     "output_type": "stream",
     "text": [
      "['I', 'live', 'in', 'Hyderabad']\n"
     ]
    }
   ],
   "source": [
    "str1=\"I live in Hyderabad\"\n",
    "l=str1.split()\n",
    "print(l)"
   ]
  },
  {
   "cell_type": "code",
   "execution_count": 141,
   "id": "035bf0d3-9d3c-415a-8994-c0b1ba757505",
   "metadata": {},
   "outputs": [
    {
     "name": "stdout",
     "output_type": "stream",
     "text": [
      "I live in Hyderabad\n"
     ]
    }
   ],
   "source": [
    "str1=['I', 'live', 'in', 'Hyderabad']\n",
    "l=' '.join(str1)\n",
    "print(l)"
   ]
  },
  {
   "cell_type": "code",
   "execution_count": 142,
   "id": "6223bbbf-94bb-4961-8a12-c79d1d72d4d7",
   "metadata": {},
   "outputs": [],
   "source": [
    "# tuple"
   ]
  },
  {
   "cell_type": "code",
   "execution_count": null,
   "id": "718ad288-947f-481f-9d88-ae1ecf12ef0c",
   "metadata": {},
   "outputs": [],
   "source": []
  }
 ],
 "metadata": {
  "kernelspec": {
   "display_name": "Python 3 (ipykernel)",
   "language": "python",
   "name": "python3"
  },
  "language_info": {
   "codemirror_mode": {
    "name": "ipython",
    "version": 3
   },
   "file_extension": ".py",
   "mimetype": "text/x-python",
   "name": "python",
   "nbconvert_exporter": "python",
   "pygments_lexer": "ipython3",
   "version": "3.11.7"
  }
 },
 "nbformat": 4,
 "nbformat_minor": 5
}
