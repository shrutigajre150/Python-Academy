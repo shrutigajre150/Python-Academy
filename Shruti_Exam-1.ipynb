{
 "cells": [
  {
   "cell_type": "markdown",
   "id": "4ee34c2a-e9d4-43ca-a992-69dee6d9b53f",
   "metadata": {},
   "source": [
    "# What is Python?\n",
    "Python is an interpreted, object-oriented, high-level programmimg language with dynamic semantics."
   ]
  },
  {
   "cell_type": "markdown",
   "id": "e1f3e45d-1597-4f5b-8be7-ef78b481f64d",
   "metadata": {},
   "source": [
    "# Python applications:\n",
    "1. Image processing: The image can is manipulated according to our requirements. Libraries used are: OpenCV, Pillow, SimpleITK\n",
    "2. Audio and video: Multimedia applications such as TimPlayer, cplay, etc are made using python"
   ]
  },
  {
   "cell_type": "markdown",
   "id": "d61ffbf8-3a98-406b-9bd7-31f63c6bfcc6",
   "metadata": {},
   "source": [
    "# Benefits of Python:\n",
    "1. Simple and easy to learn\n",
    "2. Flexibility\n",
    "3. Libraries and frameworks\n",
    "4. Security\n",
    "5. Platform independent"
   ]
  },
  {
   "cell_type": "markdown",
   "id": "4a726c06-5ee3-4b8b-814d-84311d55a54a",
   "metadata": {},
   "source": [
    "# keywords in python\n",
    "Keywords are the reserved words which can not be used as variables."
   ]
  },
  {
   "cell_type": "code",
   "execution_count": 1,
   "id": "90d79fb4-0c31-4571-86d2-38f918b8f918",
   "metadata": {},
   "outputs": [
    {
     "name": "stdout",
     "output_type": "stream",
     "text": [
      "['False', 'None', 'True', 'and', 'as', 'assert', 'async', 'await', 'break', 'class', 'continue', 'def', 'del', 'elif', 'else', 'except', 'finally', 'for', 'from', 'global', 'if', 'import', 'in', 'is', 'lambda', 'nonlocal', 'not', 'or', 'pass', 'raise', 'return', 'try', 'while', 'with', 'yield']\n"
     ]
    },
    {
     "data": {
      "text/plain": [
       "35"
      ]
     },
     "execution_count": 1,
     "metadata": {},
     "output_type": "execute_result"
    }
   ],
   "source": [
    "import keyword\n",
    "\n",
    "python_keywords = keyword.kwlist\n",
    "print(python_keywords)   # Display the list of keywords\n",
    "len(python_keywords)  "
   ]
  },
  {
   "cell_type": "markdown",
   "id": "bb6e12fc-a9be-4ce3-b7df-dc96ca8992ae",
   "metadata": {},
   "source": [
    "# Rules for creating variables\n",
    "1. A Python variable name must start with a letter or the underscore character.\n",
    "2. A Python variable name cannot start with a number.\n",
    "3. A Python variable name can only contain alpha-numeric characters and underscores (A-z, 0-9, and _ ).\n",
    "4. Variable in Python names are case-sensitive (name, Name, and NAME are three different variables).\n",
    "5. The reserved words(keywords) in Python cannot be used to name the variable in Python."
   ]
  },
  {
   "cell_type": "code",
   "execution_count": 2,
   "id": "38ab025d-ea7e-4b30-a270-3a918729d201",
   "metadata": {},
   "outputs": [],
   "source": [
    "#valid\n",
    "var = 5          # can alpha\n",
    "var_2 = 'Python' # variable name can be alpha-numeric \n",
    "_var = 'Python'  # can start with _"
   ]
  },
  {
   "cell_type": "code",
   "execution_count": 3,
   "id": "b5d3fd58-4f59-489d-a5c8-05ac4cea5627",
   "metadata": {},
   "outputs": [
    {
     "ename": "SyntaxError",
     "evalue": "invalid decimal literal (3083486103.py, line 3)",
     "output_type": "error",
     "traceback": [
      "\u001b[0;36m  Cell \u001b[0;32mIn[3], line 3\u001b[0;36m\u001b[0m\n\u001b[0;31m    1_var = 5  #cannot start with number\u001b[0m\n\u001b[0m     ^\u001b[0m\n\u001b[0;31mSyntaxError\u001b[0m\u001b[0;31m:\u001b[0m invalid decimal literal\n"
     ]
    }
   ],
   "source": [
    "#invalid\n",
    "\n",
    "1_var = 5  #cannot start with number\n",
    "@var = 5   #cannot start with special characters like @,$,(,*,etc\n",
    "for = 'python' # cannot use keywords as variables"
   ]
  },
  {
   "cell_type": "markdown",
   "id": "61f82446-a54e-44b8-80fe-f3b4786f4393",
   "metadata": {},
   "source": [
    "# Data Types in Python\n",
    "\n",
    "integer\n",
    "string\n",
    "Boolean\n",
    "Dictionary\n",
    "list\n",
    "float\n",
    "tuple"
   ]
  },
  {
   "cell_type": "code",
   "execution_count": 4,
   "id": "52432bda-01e5-42d9-bb68-e4681422297c",
   "metadata": {},
   "outputs": [
    {
     "name": "stdout",
     "output_type": "stream",
     "text": [
      "<class 'int'>\n",
      "<class 'str'>\n",
      "<class 'float'>\n"
     ]
    }
   ],
   "source": [
    "a = 25\n",
    "b = 'python'\n",
    "c = 4.55\n",
    "\n",
    "print(type(a))   # use 'type' to know the data type of a variable\n",
    "print(type(b))\n",
    "print(type(c))"
   ]
  },
  {
   "cell_type": "markdown",
   "id": "859c4b55-65fc-45db-8834-e543fda00c77",
   "metadata": {},
   "source": [
    "# Mutable: \n",
    "    Objects that can be changed after they are created.\n",
    "    Eg: List, dictionary, set\n",
    "# Immutable: \n",
    "    Objects that cannot be changed once they are created.\n",
    "    Eg: integers, strings, tuples"
   ]
  },
  {
   "cell_type": "markdown",
   "id": "7c2ddff4-e7c9-43d0-b0a8-de09b0ed4fbc",
   "metadata": {},
   "source": [
    "# List vs Tuple\n",
    "1. Lists are mutable, Tuples are immutable\n",
    "2. Lists consume more memory, Tuple consumes less memory\n",
    "3. The list is better for performing operations, such as insertion and deletion, A Tuple data type is appropriate for accessing the elements\n",
    "4. Lists have several built-in methods, Tuple does not have many built-in methods.\n",
    "5. [],()"
   ]
  },
  {
   "cell_type": "code",
   "execution_count": 5,
   "id": "cd416f40-ab4d-41ed-a3f1-ecfdd808cadc",
   "metadata": {},
   "outputs": [
    {
     "name": "stdout",
     "output_type": "stream",
     "text": [
      "Python\n",
      "is\n",
      "a\n",
      "programming\n",
      "language\n",
      "15\n"
     ]
    }
   ],
   "source": [
    "list = ['Python', 'is', 'a', 'programming', 'language', 15]\n",
    "print(list[0])\n",
    "print(list[1])\n",
    "print(list[2])\n",
    "print(list[3])\n",
    "print(list[4])\n",
    "print(list[5])"
   ]
  },
  {
   "cell_type": "markdown",
   "id": "9ff492c0-6e05-497c-944d-31c87c6ccc40",
   "metadata": {},
   "source": [
    "# Conditional statement"
   ]
  },
  {
   "cell_type": "code",
   "execution_count": 7,
   "id": "bba4e0c0-90f9-40e2-88bd-1af8202a86f4",
   "metadata": {},
   "outputs": [
    {
     "name": "stdin",
     "output_type": "stream",
     "text": [
      "Enter a number 20\n"
     ]
    },
    {
     "name": "stdout",
     "output_type": "stream",
     "text": [
      "21\n"
     ]
    }
   ],
   "source": [
    "# if statement\n",
    "a = int(input('Enter a number'))\n",
    "if a>10:\n",
    "    a=a+1\n",
    "    print(a)"
   ]
  },
  {
   "cell_type": "code",
   "execution_count": 8,
   "id": "9c9f7629-2832-4d76-b345-f39a43d2bb0e",
   "metadata": {},
   "outputs": [
    {
     "name": "stdin",
     "output_type": "stream",
     "text": [
      "Enter age 45\n"
     ]
    },
    {
     "name": "stdout",
     "output_type": "stream",
     "text": [
      "True\n"
     ]
    }
   ],
   "source": [
    "# if-else statement\n",
    "\n",
    "age= int(input('Enter age'))\n",
    "if (age>40):\n",
    "    print('True')\n",
    "else:\n",
    "    print('False')"
   ]
  },
  {
   "cell_type": "code",
   "execution_count": 9,
   "id": "32feac02-abab-408c-a87e-9f49cd377668",
   "metadata": {},
   "outputs": [
    {
     "name": "stdout",
     "output_type": "stream",
     "text": [
      "Positive number\n"
     ]
    }
   ],
   "source": [
    "#nested if\n",
    "num = 21\n",
    "if num >= 0: \n",
    "    if num == 0: \n",
    "        print(\"Zero\") \n",
    "    else: \n",
    "        print(\"Positive number\") \n",
    "else: \n",
    "    print(\"Negative number\") "
   ]
  },
  {
   "cell_type": "code",
   "execution_count": 10,
   "id": "b09eab6f-0acb-4022-8072-a4b79e02d834",
   "metadata": {},
   "outputs": [
    {
     "name": "stdin",
     "output_type": "stream",
     "text": [
      "enter a name krish\n"
     ]
    },
    {
     "name": "stdout",
     "output_type": "stream",
     "text": [
      "type correctly\n"
     ]
    }
   ],
   "source": [
    "# if elif\n",
    "\n",
    "name=input('enter a name')\n",
    " \n",
    "if name == \"shruti\":\n",
    "    print(\"true\")\n",
    " \n",
    "elif name == \"ayesha\":\n",
    "    print(\"false\")\n",
    "\n",
    "else:\n",
    "    print(\"type correctly\")"
   ]
  },
  {
   "cell_type": "markdown",
   "id": "9c0df245-8a5d-46b3-bf45-8cd0c4d8efd5",
   "metadata": {},
   "source": [
    "# Loop statement"
   ]
  },
  {
   "cell_type": "code",
   "execution_count": 11,
   "id": "bfc7a3fe-7331-4a31-9ef2-b49eed516e90",
   "metadata": {},
   "outputs": [
    {
     "name": "stdout",
     "output_type": "stream",
     "text": [
      "Hello\n",
      "Hello\n",
      "Hello\n",
      "Hello\n"
     ]
    }
   ],
   "source": [
    "# while loop\n",
    "count = 0\n",
    "while (count < 4):\n",
    "    count = count + 1\n",
    "    print(\"Hello\")"
   ]
  },
  {
   "cell_type": "code",
   "execution_count": 12,
   "id": "09d231af-06d6-4c20-a1e7-1ae66c80bbb4",
   "metadata": {},
   "outputs": [
    {
     "name": "stdout",
     "output_type": "stream",
     "text": [
      "0\n",
      "1\n",
      "2\n",
      "3\n",
      "4\n"
     ]
    }
   ],
   "source": [
    "# for loop\n",
    "n = 5\n",
    "for i in range(0, n):\n",
    "\tprint(i)\n"
   ]
  },
  {
   "cell_type": "markdown",
   "id": "da3fbc2f-928a-4b5b-861c-762cdb8cf315",
   "metadata": {},
   "source": [
    "# control statement"
   ]
  },
  {
   "cell_type": "code",
   "execution_count": 13,
   "id": "92962533-252e-4381-97d9-43fa87221257",
   "metadata": {},
   "outputs": [
    {
     "name": "stdout",
     "output_type": "stream",
     "text": [
      "Shruti of state Hyd is eligible to vote\n"
     ]
    }
   ],
   "source": [
    "# break\n",
    "Details = [[21, 'Shruti', 'Hyd'], [4, 'krish', 'Gujarat']]  \n",
    "for candidate in Details:  \n",
    "    age = candidate[0]  \n",
    "    if age <= 18:  \n",
    "        break  \n",
    "    print (f\"{candidate[1]} of state {candidate[2]} is eligible to vote\")  "
   ]
  },
  {
   "cell_type": "code",
   "execution_count": 14,
   "id": "1bcb4506-ffc6-4d32-99d0-1e57b7810622",
   "metadata": {},
   "outputs": [
    {
     "name": "stdout",
     "output_type": "stream",
     "text": [
      "Letter:  I\n",
      "Letter:  n\n",
      "Letter:  i\n",
      "Letter:  a\n"
     ]
    }
   ],
   "source": [
    "# continue\n",
    "\n",
    "for z in 'India':  \n",
    "    if z == 'd':  \n",
    "        continue  \n",
    "    print ('Letter: ', z)  "
   ]
  },
  {
   "cell_type": "code",
   "execution_count": 15,
   "id": "79d64af3-5e2d-4988-9e9a-81f213a7f748",
   "metadata": {},
   "outputs": [
    {
     "name": "stdout",
     "output_type": "stream",
     "text": [
      "Letter:  P\n",
      "Letter:  y\n",
      "Letter:  t\n",
      "Letter:  h\n",
      "Letter:  o\n",
      "Letter:  n\n"
     ]
    }
   ],
   "source": [
    "# pass\n",
    "\n",
    "for l in 'Python':  \n",
    "    if l == 't':  \n",
    "        pass  \n",
    "    print('Letter: ', l)  "
   ]
  },
  {
   "cell_type": "markdown",
   "id": "f106beae-2916-4fc6-b0b5-52219c496502",
   "metadata": {},
   "source": [
    "# Functions\n",
    "\n",
    "Python Functions is a block of statements that return the specific task. The idea is to put some commonly or repeatedly done tasks together and make a function so that instead of writing the same code again and again for different inputs, we can do the function calls to reuse code contained in it over and over again."
   ]
  },
  {
   "cell_type": "code",
   "execution_count": 16,
   "id": "0f19effd-6737-41bd-816a-46cf791e7512",
   "metadata": {},
   "outputs": [
    {
     "name": "stdout",
     "output_type": "stream",
     "text": [
      "The addition of 50 and 5 results 55.\n"
     ]
    }
   ],
   "source": [
    "def add(num1: int, num2: int) :\n",
    "    num3 = num1 + num2\n",
    " \n",
    "    return num3\n",
    " \n",
    "num1, num2 = 50, 5\n",
    "ans = add(num1, num2)\n",
    "print(f\"The addition of {num1} and {num2} results {ans}.\")"
   ]
  },
  {
   "cell_type": "code",
   "execution_count": null,
   "id": "341273e2-e30d-4ea2-95a8-9a3bb1a6a38f",
   "metadata": {},
   "outputs": [],
   "source": []
  }
 ],
 "metadata": {
  "kernelspec": {
   "display_name": "Python 3 (ipykernel)",
   "language": "python",
   "name": "python3"
  },
  "language_info": {
   "codemirror_mode": {
    "name": "ipython",
    "version": 3
   },
   "file_extension": ".py",
   "mimetype": "text/x-python",
   "name": "python",
   "nbconvert_exporter": "python",
   "pygments_lexer": "ipython3",
   "version": "3.11.7"
  }
 },
 "nbformat": 4,
 "nbformat_minor": 5
}
